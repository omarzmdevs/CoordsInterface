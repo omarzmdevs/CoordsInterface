{
 "cells": [
  {
   "cell_type": "markdown",
   "metadata": {},
   "source": [
    "Initial coordinates + imports"
   ]
  },
  {
   "cell_type": "code",
   "execution_count": null,
   "metadata": {},
   "outputs": [],
   "source": [
    "from ipyleaflet import Map, DrawControl, basemaps, basemap_to_tiles\n",
    "import ipywidgets as widgets\n",
    "from IPython.display import display\n",
    "\n",
    "# Initial coordinates\n",
    "latitude = float(input(\"Enter latitude: \"))\n",
    "longitude = float(input(\"Enter longitude: \"))\n",
    "\n",
    "# Display the entered coordinates\n",
    "print(f\"Entered coordinates: {latitude, longitude}\")\n"
   ]
  },
  {
   "cell_type": "markdown",
   "metadata": {},
   "source": [
    "Interactive map + bounds var"
   ]
  },
  {
   "cell_type": "code",
   "execution_count": 19,
   "metadata": {},
   "outputs": [
    {
     "data": {
      "application/vnd.jupyter.widget-view+json": {
       "model_id": "a433b5378d6a43308b75b66bafdadd4a",
       "version_major": 2,
       "version_minor": 0
      },
      "text/plain": [
       "Map(center=[40.08546, -4.08546], controls=(ZoomControl(options=['position', 'zoom_in_text', 'zoom_in_title', '…"
      ]
     },
     "metadata": {},
     "output_type": "display_data"
    },
    {
     "data": {
      "application/vnd.jupyter.widget-view+json": {
       "model_id": "50e18350d4a94ea8b1be5da68e3adb3d",
       "version_major": 2,
       "version_minor": 0
      },
      "text/plain": [
       "Button(description='Obtener Coordenadas', style=ButtonStyle())"
      ]
     },
     "metadata": {},
     "output_type": "display_data"
    },
    {
     "data": {
      "application/vnd.jupyter.widget-view+json": {
       "model_id": "d5301e4c9e6f4849b1092d031e83973b",
       "version_major": 2,
       "version_minor": 0
      },
      "text/plain": [
       "Label(value='')"
      ]
     },
     "metadata": {},
     "output_type": "display_data"
    }
   ],
   "source": [
    "# Create an interactive map centered on the specified coordinates\n",
    "m = Map(\n",
    "    basemap=basemap_to_tiles(basemaps.Esri.WorldImagery),  # Satellite imagery basemap\n",
    "    center=(latitude, longitude),  # Center of the map at the specified coordinates\n",
    "    zoom=15  # Initial zoom level\n",
    ")\n",
    "\n",
    "# Variable to store the coordinates of the drawn shape\n",
    "shape_coords = []\n",
    "\n",
    "# Initialize bounds outside the function\n",
    "bounds = []\n",
    "\n",
    "# Function to handle the drawing event on the map\n",
    "def handle_draw(target, action, geo_json):\n",
    "    global shape_coords  # Use the global variable shape_coords\n",
    "    if action == 'created':  # Check if a new shape has been created\n",
    "        geometry_type = geo_json['geometry']['type']  # Get the geometry type\n",
    "        \n",
    "        if geometry_type == 'Polygon':  # Rectangle or Polygon\n",
    "            coords = geo_json['geometry']['coordinates'][0]\n",
    "            latitudes = [coord[1] for coord in coords]\n",
    "            longitudes = [coord[0] for coord in coords]\n",
    "            shape_coords = [\n",
    "                (min(latitudes), min(longitudes)),  # SW\n",
    "                (max(latitudes), max(longitudes))   # NE\n",
    "            ]\n",
    "            print(f\"Rectangle selected: SW {shape_coords[0]}, NE {shape_coords[1]}\")\n",
    "\n",
    "        elif geometry_type == 'Point':  # Point\n",
    "            coords = geo_json['geometry']['coordinates']\n",
    "            shape_coords = [(coords[1], coords[0])]  # Store as a tuple (lat, lon)\n",
    "            print(f\"Point selected: {shape_coords[0]}\")\n",
    "\n",
    "# Create a drawing control with options for different shapes\n",
    "draw_control = DrawControl(\n",
    "    rectangle={'shapeOptions': {'color': 'blue'}},  # Style options for rectangles\n",
    "    marker={},  # Option to draw a point\n",
    "    edit=True  # Allow editing of drawn shapes\n",
    ")\n",
    "\n",
    "# Bind the handle_draw function to the drawing event\n",
    "draw_control.on_draw(handle_draw)\n",
    "\n",
    "# Add the drawing control to the map\n",
    "m.add_control(draw_control)\n",
    "\n",
    "# Function to update and display the coordinates of the selected shape\n",
    "def update_coords(button):\n",
    "    global bounds  # Use the global variable bounds\n",
    "    if shape_coords:\n",
    "        if len(shape_coords[0]) == 2:  # If it's a rectangle or a point\n",
    "            if len(shape_coords) == 2:  # Rectangle (two points SW and NE)\n",
    "                coord_label.value = f\"Rectangle selected: SW {shape_coords[0]}, NE {shape_coords[1]}\"\n",
    "                bounds = [shape_coords[0][0], shape_coords[0][1], shape_coords[1][0], shape_coords[1][1]]\n",
    "            else:  # Point (only one point)\n",
    "                coord_label.value = f\"Point selected: {shape_coords[0]}\"\n",
    "                bounds = [shape_coords[0][0], shape_coords[0][1]]\n",
    "        print(f\"Bounds updated: {bounds}\")\n",
    "    else:\n",
    "        coord_label.value = \"No shape selected.\"\n",
    "\n",
    "# Create a Label widget to display the selected coordinates\n",
    "coord_label = widgets.Label()\n",
    "\n",
    "# Create a button that updates the selected coordinates when clicked\n",
    "button = widgets.Button(description=\"Get Coordinates\")\n",
    "button.on_click(update_coords)  # Bind the update_coords function to the button click\n",
    "\n",
    "# Display the interactive map, button, and label in the notebook output\n",
    "display(m)\n",
    "display(button)\n",
    "display(coord_label)"
   ]
  }
 ],
 "metadata": {
  "kernelspec": {
   "display_name": "Python 3",
   "language": "python",
   "name": "python3"
  },
  "language_info": {
   "codemirror_mode": {
    "name": "ipython",
    "version": 3
   },
   "file_extension": ".py",
   "mimetype": "text/x-python",
   "name": "python",
   "nbconvert_exporter": "python",
   "pygments_lexer": "ipython3",
   "version": "3.11.9"
  }
 },
 "nbformat": 4,
 "nbformat_minor": 2
}
