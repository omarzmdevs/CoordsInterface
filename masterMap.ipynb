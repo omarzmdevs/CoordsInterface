{
 "cells": [
  {
   "cell_type": "markdown",
   "metadata": {},
   "source": [
    "Coordenadas iniciales + importaciones"
   ]
  },
  {
   "cell_type": "code",
   "execution_count": 5,
   "metadata": {},
   "outputs": [
    {
     "name": "stdout",
     "output_type": "stream",
     "text": [
      "Coordenadas introducidas: (40.08245, -4.087954)\n"
     ]
    }
   ],
   "source": [
    "from ipyleaflet import Map, DrawControl, basemaps, basemap_to_tiles\n",
    "import ipywidgets as widgets\n",
    "from IPython.display import display\n",
    "\n",
    "# Coordenadas iniciales\n",
    "latitude = float(input(\"Introducir latitud\"))\n",
    "longitude = float(input(\"Introducir longitud\"))\n",
    "\n",
    "# Mostrar el valor introducido\n",
    "print(f\"Coordenadas introducidas: {latitude, longitude}\")\n"
   ]
  },
  {
   "cell_type": "markdown",
   "metadata": {},
   "source": [
    "Mapa interactivo"
   ]
  },
  {
   "cell_type": "code",
   "execution_count": 6,
   "metadata": {},
   "outputs": [
    {
     "data": {
      "application/vnd.jupyter.widget-view+json": {
       "model_id": "5d8af15e25b644f19ba9881296e7362d",
       "version_major": 2,
       "version_minor": 0
      },
      "text/plain": [
       "Map(center=[40.08245, -4.087954], controls=(ZoomControl(options=['position', 'zoom_in_text', 'zoom_in_title', …"
      ]
     },
     "metadata": {},
     "output_type": "display_data"
    },
    {
     "data": {
      "application/vnd.jupyter.widget-view+json": {
       "model_id": "26151776074343bdafc5bceb2b80f895",
       "version_major": 2,
       "version_minor": 0
      },
      "text/plain": [
       "Button(description='Obtener Coordenadas', style=ButtonStyle())"
      ]
     },
     "metadata": {},
     "output_type": "display_data"
    },
    {
     "data": {
      "application/vnd.jupyter.widget-view+json": {
       "model_id": "d747726044274fdc8a6d8fa312074b58",
       "version_major": 2,
       "version_minor": 0
      },
      "text/plain": [
       "Label(value='')"
      ]
     },
     "metadata": {},
     "output_type": "display_data"
    }
   ],
   "source": [
    "# Crear un mapa interactivo con ipyleaflet\n",
    "m = Map(basemap=basemap_to_tiles(basemaps.Esri.WorldImagery), center=(latitude, longitude), zoom=15)\n",
    "\n",
    "# Variable para almacenar las coordenadas del rectángulo\n",
    "rect_coords = []\n",
    "\n",
    "# Inicializar bounds fuera de la función\n",
    "bounds = []\n",
    "\n",
    "# Función para manejar el evento de dibujo\n",
    "def handle_draw(target, action, geo_json):\n",
    "    global rect_coords\n",
    "    if action == 'created' and geo_json['geometry']['type'] == 'Polygon':\n",
    "        # Obtener las coordenadas del rectángulo\n",
    "        coords = geo_json['geometry']['coordinates'][0]\n",
    "        # Convertir a un formato más comprensible (SW, NE)\n",
    "        latitudes = [coord[1] for coord in coords]\n",
    "        longitudes = [coord[0] for coord in coords]\n",
    "        rect_coords = [\n",
    "            (min(latitudes), min(longitudes)),  # SW\n",
    "            (max(latitudes), max(longitudes))   # NE\n",
    "        ]\n",
    "        print(f\"Coordenadas seleccionadas: SW {rect_coords[0]}, NE {rect_coords[1]}\")\n",
    "\n",
    "# Crear un control de dibujo con opciones específicas\n",
    "draw_control = DrawControl(\n",
    "    rectangle={'shapeOptions': {'color': 'blue'}},\n",
    "    edit=True\n",
    ")\n",
    "draw_control.on_draw(handle_draw)\n",
    "m.add_control(draw_control)\n",
    "\n",
    "# Función para obtener las coordenadas del área seleccionada\n",
    "def update_coords(button):\n",
    "    global bounds\n",
    "    if rect_coords:\n",
    "        coord_label.value = f\"Coordenadas seleccionadas: SW {rect_coords[0]}, NE {rect_coords[1]}\"\n",
    "        # Actualizar bounds con las coordenadas seleccionadas\n",
    "        bounds = [rect_coords[0][0], rect_coords[0][1], rect_coords[1][0], rect_coords[1][1]]\n",
    "        print(f\"Bounds actualizados: {bounds}\")\n",
    "    else:\n",
    "        coord_label.value = \"No se ha seleccionado ninguna área.\"\n",
    "\n",
    "# Crear un botón y etiqueta para mostrar las coordenadas\n",
    "coord_label = widgets.Label()\n",
    "button = widgets.Button(description=\"Obtener Coordenadas\")\n",
    "button.on_click(update_coords)\n",
    "\n",
    "# Mostrar mapa, botón y etiqueta\n",
    "display(m)\n",
    "display(button)\n",
    "display(coord_label)\n"
   ]
  }
 ],
 "metadata": {
  "kernelspec": {
   "display_name": "Python 3",
   "language": "python",
   "name": "python3"
  },
  "language_info": {
   "codemirror_mode": {
    "name": "ipython",
    "version": 3
   },
   "file_extension": ".py",
   "mimetype": "text/x-python",
   "name": "python",
   "nbconvert_exporter": "python",
   "pygments_lexer": "ipython3",
   "version": "3.11.9"
  }
 },
 "nbformat": 4,
 "nbformat_minor": 2
}
